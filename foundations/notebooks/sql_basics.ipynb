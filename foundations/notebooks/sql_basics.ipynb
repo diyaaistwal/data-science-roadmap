import pandas as pd
import mysql.connector
conn=mysql.connector.connect(host='localhost',user='root',password='diya12',database='sakila')
query="select title,rental_rate,replacement_cost from film;"
df=pd.read_sql_query(query,conn)
print(df.head())
conn.close()
